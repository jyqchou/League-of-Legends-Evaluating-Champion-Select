{
 "cells": [
  {
   "cell_type": "markdown",
   "metadata": {},
   "source": [
    "\\author{Justin Chou 156006871}\n",
    "198:439 Intro to Data Science"
   ]
  },
  {
   "cell_type": "code",
   "execution_count": 1,
   "metadata": {},
   "outputs": [],
   "source": [
    "#read in data\n",
    "file = open(\"glove.6B/glove.6B.300d.txt\",\"r\")\n",
    "data = {}\n",
    "for line in file:\n",
    "    word = line.split()\n",
    "    data[word[0]] = word[1:]\n",
    "file.close()"
   ]
  },
  {
   "cell_type": "markdown",
   "metadata": {},
   "source": [
    "# Task 1"
   ]
  },
  {
   "cell_type": "markdown",
   "metadata": {},
   "source": [
    "We calculate CosineSimilarity with the following equation: \n",
    "<br> \\newline\n",
    "CosineSimilarity = $\\frac{A\\cdot B}{\\| A\\|  \\| B\\|}$\n",
    "<br> \\newline \\newline\n",
    "CosineSimilarity is interpreted as ${-1}$ meaning exactly opposite, $1$ meaning exactly the same, $0$ indicating orthogonality (decorrelation)"
   ]
  },
  {
   "cell_type": "code",
   "execution_count": 2,
   "metadata": {},
   "outputs": [],
   "source": [
    "#Compute magnitude for each word vector\n",
    "magnitude = {}\n",
    "for key in data:\n",
    "    total = 0.0\n",
    "    for x in range(len(data[key])):\n",
    "        total += float(data[key][x])**2\n",
    "    total = total**0.5\n",
    "    magnitude[key]=total\n",
    "    \n",
    "#print(magnitude['justin'])"
   ]
  },
  {
   "cell_type": "code",
   "execution_count": 3,
   "metadata": {},
   "outputs": [],
   "source": [
    "#Compute Cosine Similarity between 'justin' and all words in data\n",
    "\n",
    "justin = data['justin']\n",
    "justinMag = magnitude['justin']\n",
    "\n",
    "CosSim = []\n",
    "for key in data:\n",
    "    dotProd=0.0\n",
    "    for x in range(len(data[key])):\n",
    "        current = data[key]\n",
    "        dotProd += float(justin[x])*float(current[x])\n",
    "    similarity = dotProd/(magnitude[key]*justinMag)\n",
    "    newTuple = (key,similarity)\n",
    "    CosSim.append(newTuple)\n",
    "    \n",
    "#print first 3 Cosine Similarities\n",
    "#print(CosSim[:3])"
   ]
  },
  {
   "cell_type": "code",
   "execution_count": 4,
   "metadata": {},
   "outputs": [
    {
     "name": "stdout",
     "output_type": "stream",
     "text": [
      "justin\n",
      "timberlake\n",
      "bieber\n",
      "ricky\n",
      "matthew\n",
      "langer\n"
     ]
    }
   ],
   "source": [
    "#Sort words by their CosineSimilarity, output the words with the highest scores\n",
    "\n",
    "CosSim.sort(key = lambda tuple:tuple[1], reverse = True)\n",
    "for x in range(6):\n",
    "    print(CosSim[x][0])\n",
    "    \n",
    "#First word is 'justin', as 'justin' will have a CosineSimilarity with itself of 1\n",
    "#The next 5 closest neighbors follow:"
   ]
  },
  {
   "cell_type": "markdown",
   "metadata": {},
   "source": [
    "The five nearest neighbors of \"justin\" according to CosineSimilarity are timberlake, bieber, ricky, matthew, and langer. "
   ]
  },
  {
   "cell_type": "markdown",
   "metadata": {},
   "source": [
    "# Task 2"
   ]
  },
  {
   "cell_type": "code",
   "execution_count": 5,
   "metadata": {},
   "outputs": [],
   "source": [
    "#using random sentence generator https://randomwordgenerator.com/sentence.php,\n",
    "#our random sentence is:\n",
    "#\"I love eating toasted cheese and tuna sandwiches.\"\n",
    "\n",
    "#Compute Sentence Vector\n",
    "sentence = 'I love eating toasted cheese and tuna sandwiches'\n",
    "words = sentence.lower().split()\n",
    "words.append('.')\n",
    "\n",
    "sentenceVector = []\n",
    "count = 0\n",
    "for word in words:\n",
    "    #print(word)\n",
    "    if word not in data:\n",
    "        continue\n",
    "    \n",
    "    current = data[word]\n",
    "    if not sentenceVector:\n",
    "        for x in range(len(current)):\n",
    "            sentenceVector.append(float(current[x]))\n",
    "    else:\n",
    "        for x in range(len(current)):\n",
    "            sentenceVector[x] += float(current[x])\n",
    "    count += 1\n",
    "    \n",
    "#print('Number of words: ' + str(count))\n",
    "for x in range(len(sentenceVector)):\n",
    "    sentenceVector[x] = sentenceVector[x]/count\n",
    "    \n",
    "#compute sentence Magnitude\n",
    "total = 0.0\n",
    "for x in range(len(sentenceVector)):\n",
    "    total += sentenceVector[x]**2\n",
    "total = total**0.5\n",
    "sentenceMagnitude = total"
   ]
  },
  {
   "cell_type": "code",
   "execution_count": 6,
   "metadata": {},
   "outputs": [],
   "source": [
    "#Compute Cosine Similarity with sentence average vector\n",
    "\n",
    "SenCosSim = []\n",
    "for key in data:\n",
    "    dotProd=0.0\n",
    "    for x in range(len(data[key])):\n",
    "        current = data[key]\n",
    "        dotProd += float(sentenceVector[x])*float(current[x])\n",
    "    similarity = dotProd/(magnitude[key]*sentenceMagnitude)\n",
    "    newTuple = (key,similarity)\n",
    "    SenCosSim.append(newTuple)\n",
    "    \n",
    "#print(SenCosSim[:5])"
   ]
  },
  {
   "cell_type": "code",
   "execution_count": 7,
   "metadata": {},
   "outputs": [
    {
     "name": "stdout",
     "output_type": "stream",
     "text": [
      "cheese\n",
      "eat\n",
      "sandwiches\n",
      "eating\n",
      "bread\n",
      "you\n",
      "sandwich\n",
      "chicken\n",
      "salad\n",
      "cooked\n"
     ]
    }
   ],
   "source": [
    "#10 most similar words to random sentence\n",
    "SenCosSim.sort(key = lambda tuple:tuple[1], reverse = True)\n",
    "for x in range(10):\n",
    "    print(SenCosSim[x][0])  "
   ]
  },
  {
   "cell_type": "markdown",
   "metadata": {},
   "source": [
    "The ten nearest neighbor words to the randoly generated sentence are cheese, eat, sandwiches, eating, bread, you, sandwich, chicken, salad, and cooked."
   ]
  },
  {
   "cell_type": "markdown",
   "metadata": {},
   "source": [
    "# Task 3"
   ]
  },
  {
   "cell_type": "code",
   "execution_count": 8,
   "metadata": {},
   "outputs": [
    {
     "name": "stdout",
     "output_type": "stream",
     "text": [
      "0.8671338301344433\n"
     ]
    }
   ],
   "source": [
    "#S1, sentence similar in meaning: \n",
    "#\"I enjoy consuming roasted cheddar and salmon burgers.\"\n",
    "\n",
    "sentence1 = 'I enjoy consuming roasted cheddar and salmon burgers'\n",
    "\n",
    "words1 = sentence1.lower().split()\n",
    "words1.append('.')\n",
    "\n",
    "sentence1Vector = []\n",
    "count = 0\n",
    "for word in words1:\n",
    "    #print(word)\n",
    "    if word not in data:\n",
    "        continue\n",
    "    \n",
    "    current = data[word]\n",
    "    if not sentence1Vector:\n",
    "        for x in range(len(current)):\n",
    "            sentence1Vector.append(float(current[x]))\n",
    "    else:\n",
    "        for x in range(len(current)):\n",
    "            sentence1Vector[x] += float(current[x])\n",
    "    count += 1\n",
    "    \n",
    "#print('Number of words: ' + str(count))\n",
    "for x in range(len(sentence1Vector)):\n",
    "    sentence1Vector[x] = sentence1Vector[x]/count\n",
    "    \n",
    "#compute sentence1 Magnitude\n",
    "total = 0.0\n",
    "for x in range(len(sentence1Vector)):\n",
    "    total += sentence1Vector[x]**2\n",
    "total = total**0.5\n",
    "sentence1Magnitude = total\n",
    "\n",
    "#Computer S0 and S1 CosineSimilarity\n",
    "\n",
    "dotProd=0.0\n",
    "for x in range(len(sentenceVector)):\n",
    "    dotProd += sentenceVector[x]*sentence1Vector[x]\n",
    "s0s1similarity = dotProd/(sentenceMagnitude*sentence1Magnitude)\n",
    "print(s0s1similarity)"
   ]
  },
  {
   "cell_type": "code",
   "execution_count": 9,
   "metadata": {},
   "outputs": [
    {
     "name": "stdout",
     "output_type": "stream",
     "text": [
      "0.8202846252840599\n"
     ]
    }
   ],
   "source": [
    "#S2, sentence dissimilar in meaning: \n",
    "#\"Fish adore devouring me with cooked mozzarella sliders.\"\n",
    "\n",
    "sentence2 = 'Fish adore devouring me with cooked mozzarella sliders'\n",
    "\n",
    "words2 = sentence2.lower().split()\n",
    "words2.append('.')\n",
    "\n",
    "sentence2Vector = []\n",
    "count = 0\n",
    "for word in words2:\n",
    "    #print(word)\n",
    "    if word not in data:\n",
    "        continue\n",
    "    \n",
    "    current = data[word]\n",
    "    if not sentence2Vector:\n",
    "        for x in range(len(current)):\n",
    "            sentence2Vector.append(float(current[x]))\n",
    "    else:\n",
    "        for x in range(len(current)):\n",
    "            sentence2Vector[x] += float(current[x])\n",
    "    count += 1\n",
    "    \n",
    "#print('Number of words: ' + str(count))\n",
    "for x in range(len(sentence2Vector)):\n",
    "    sentence2Vector[x] = sentence2Vector[x]/count\n",
    "    \n",
    "#compute sentence2 Magnitude\n",
    "total = 0.0\n",
    "for x in range(len(sentence2Vector)):\n",
    "    total += sentence2Vector[x]**2\n",
    "total = total**0.5\n",
    "sentence2Magnitude = total\n",
    "\n",
    "#Computer S0 and S2 CosineSimilarity\n",
    "\n",
    "dotProd=0.0\n",
    "for x in range(len(sentenceVector)):\n",
    "    dotProd += sentenceVector[x]*sentence2Vector[x]\n",
    "s0s2similarity = dotProd/(sentenceMagnitude*sentence2Magnitude)\n",
    "print(s0s2similarity)"
   ]
  },
  {
   "cell_type": "markdown",
   "metadata": {},
   "source": [
    "The Cosine Similarity between sentence0 and sentence1 is 0.86713, which is reasonably close to 1. The two sentences have nearly interchangable meanings, as most of the words in sentence1 are merely synonyms of those in sentence one. Thus, we should expect the two sentences to have a cosine similarity close to 1.\n",
    "\n",
    "However, sentence2 has a completely dissimilar meaning from sentence0, despite deliberately choosing similar diction. Sentence0 makes logical sense in an ordinary context: \"I love eating toasted cheese and tuna sandwiches.\" Sentence2, however, does not: \"Fish adore devouring me with cooked mozzarella sliders.\" Even though the second sentence describes carnivorous fish, the calculated cosine similarity is still close to 1: 0.82028, only slightly worse than sentence1. This is because, again, similar diction is used, even though the syntax of the sentence is completely different. We can improve the accuracy of our cosine similarity computation by using an algorithm that accounts for the syntax as well as the diction of a sentence. This would allow us to calculate vector representations that more accurately capture the true meaning of the sentence than simply calculating the average vector of the individual words used."
   ]
  }
 ],
 "metadata": {
  "kernelspec": {
   "display_name": "Python 3",
   "language": "python",
   "name": "python3"
  },
  "language_info": {
   "codemirror_mode": {
    "name": "ipython",
    "version": 3
   },
   "file_extension": ".py",
   "mimetype": "text/x-python",
   "name": "python",
   "nbconvert_exporter": "python",
   "pygments_lexer": "ipython3",
   "version": "3.6.4"
  }
 },
 "nbformat": 4,
 "nbformat_minor": 2
}
